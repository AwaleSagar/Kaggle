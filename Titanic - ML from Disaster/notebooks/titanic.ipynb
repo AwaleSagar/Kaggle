{
 "cells": [
  {
   "cell_type": "markdown",
   "id": "1e21572b",
   "metadata": {},
   "source": [
    "## Titanic - Machine Learning from Disaster"
   ]
  },
  {
   "cell_type": "code",
   "execution_count": 1,
   "id": "94450c04",
   "metadata": {},
   "outputs": [],
   "source": [
    "#imoprt data and viz libraries \n",
    "\n",
    "import pandas as pd\n",
    "import numpy as np\n",
    "\n",
    "import seaborn as sns \n",
    "import matplotlib.pyplot as plt\n",
    "\n",
    "%matplotlib inline"
   ]
  },
  {
   "cell_type": "code",
   "execution_count": 2,
   "id": "20bb5f67",
   "metadata": {},
   "outputs": [],
   "source": [
    "## Load our Train and Test Data\n",
    "\n",
    "train = pd.read_csv('../data/train.csv')\n",
    "test  = pd.read_csv('../data/test.csv')"
   ]
  },
  {
   "cell_type": "code",
   "execution_count": 3,
   "id": "866f9ae7",
   "metadata": {},
   "outputs": [
    {
     "name": "stdout",
     "output_type": "stream",
     "text": [
      "(891, 12) (418, 11)\n"
     ]
    }
   ],
   "source": [
    "print(train.shape, test.shape)"
   ]
  },
  {
   "cell_type": "code",
   "execution_count": 4,
   "id": "df7a353c",
   "metadata": {},
   "outputs": [],
   "source": [
    "## Before starting with the EDA , lets do go for LayMan Approach. As our Kaggle Evaluation is based on Accuracy Score.\n",
    "\n",
    "## Layman Approach -- Assume all passengers in test set survived / dead \n",
    "\n",
    "## Assumption 0 all dead :(\n",
    "\n",
    "layman0_submission = test[[\"PassengerId\"]].copy()\n",
    "layman0_submission['Survived'] = 0\n",
    "layman0_submission.to_csv('../data/Laymam_all_dead.csv',index=False)\n",
    "\n",
    "# Assumption 1 all survived :D\n",
    "\n",
    "layman1_submission = test[[\"PassengerId\"]].copy()\n",
    "layman1_submission['Survived'] = 1\n",
    "layman1_submission.to_csv('../data/Laymam_all_survived.csv',index=False)"
   ]
  },
  {
   "cell_type": "markdown",
   "id": "0590402c",
   "metadata": {},
   "source": [
    "+++ Results +++\n",
    "\n",
    "Public Score Accuracy\n",
    "\n",
    "- Layman approach all dead ----------- 0.62200\n",
    "- Layman approach all survived ------- 0.37799\n",
    "\n",
    "```\n",
    "\n",
    "Layman Conclusion :\n",
    "We can conclude that the total number of people who Died > total number of people survived for our test dataset. \n",
    "Just by using a Layman all-dead hypothesis test, we can achieve an accuracy of approximately 62% on our test data.\n",
    "```"
   ]
  },
  {
   "cell_type": "markdown",
   "id": "6afe66ab",
   "metadata": {},
   "source": [
    "### Exploratory Data Analysis on training Data"
   ]
  },
  {
   "cell_type": "code",
   "execution_count": 5,
   "id": "d49b42b8",
   "metadata": {},
   "outputs": [
    {
     "data": {
      "text/html": [
       "<div>\n",
       "<style scoped>\n",
       "    .dataframe tbody tr th:only-of-type {\n",
       "        vertical-align: middle;\n",
       "    }\n",
       "\n",
       "    .dataframe tbody tr th {\n",
       "        vertical-align: top;\n",
       "    }\n",
       "\n",
       "    .dataframe thead th {\n",
       "        text-align: right;\n",
       "    }\n",
       "</style>\n",
       "<table border=\"1\" class=\"dataframe\">\n",
       "  <thead>\n",
       "    <tr style=\"text-align: right;\">\n",
       "      <th></th>\n",
       "      <th>PassengerId</th>\n",
       "      <th>Survived</th>\n",
       "      <th>Pclass</th>\n",
       "      <th>Name</th>\n",
       "      <th>Sex</th>\n",
       "      <th>Age</th>\n",
       "      <th>SibSp</th>\n",
       "      <th>Parch</th>\n",
       "      <th>Ticket</th>\n",
       "      <th>Fare</th>\n",
       "      <th>Cabin</th>\n",
       "      <th>Embarked</th>\n",
       "    </tr>\n",
       "  </thead>\n",
       "  <tbody>\n",
       "    <tr>\n",
       "      <th>0</th>\n",
       "      <td>1</td>\n",
       "      <td>0</td>\n",
       "      <td>3</td>\n",
       "      <td>Braund, Mr. Owen Harris</td>\n",
       "      <td>male</td>\n",
       "      <td>22.0</td>\n",
       "      <td>1</td>\n",
       "      <td>0</td>\n",
       "      <td>A/5 21171</td>\n",
       "      <td>7.2500</td>\n",
       "      <td>NaN</td>\n",
       "      <td>S</td>\n",
       "    </tr>\n",
       "    <tr>\n",
       "      <th>1</th>\n",
       "      <td>2</td>\n",
       "      <td>1</td>\n",
       "      <td>1</td>\n",
       "      <td>Cumings, Mrs. John Bradley (Florence Briggs Th...</td>\n",
       "      <td>female</td>\n",
       "      <td>38.0</td>\n",
       "      <td>1</td>\n",
       "      <td>0</td>\n",
       "      <td>PC 17599</td>\n",
       "      <td>71.2833</td>\n",
       "      <td>C85</td>\n",
       "      <td>C</td>\n",
       "    </tr>\n",
       "    <tr>\n",
       "      <th>2</th>\n",
       "      <td>3</td>\n",
       "      <td>1</td>\n",
       "      <td>3</td>\n",
       "      <td>Heikkinen, Miss. Laina</td>\n",
       "      <td>female</td>\n",
       "      <td>26.0</td>\n",
       "      <td>0</td>\n",
       "      <td>0</td>\n",
       "      <td>STON/O2. 3101282</td>\n",
       "      <td>7.9250</td>\n",
       "      <td>NaN</td>\n",
       "      <td>S</td>\n",
       "    </tr>\n",
       "  </tbody>\n",
       "</table>\n",
       "</div>"
      ],
      "text/plain": [
       "   PassengerId  Survived  Pclass  \\\n",
       "0            1         0       3   \n",
       "1            2         1       1   \n",
       "2            3         1       3   \n",
       "\n",
       "                                                Name     Sex   Age  SibSp  \\\n",
       "0                            Braund, Mr. Owen Harris    male  22.0      1   \n",
       "1  Cumings, Mrs. John Bradley (Florence Briggs Th...  female  38.0      1   \n",
       "2                             Heikkinen, Miss. Laina  female  26.0      0   \n",
       "\n",
       "   Parch            Ticket     Fare Cabin Embarked  \n",
       "0      0         A/5 21171   7.2500   NaN        S  \n",
       "1      0          PC 17599  71.2833   C85        C  \n",
       "2      0  STON/O2. 3101282   7.9250   NaN        S  "
      ]
     },
     "execution_count": 5,
     "metadata": {},
     "output_type": "execute_result"
    }
   ],
   "source": [
    "## View sample of our training data\n",
    "train.head(3)"
   ]
  },
  {
   "cell_type": "code",
   "execution_count": 6,
   "id": "beb47348",
   "metadata": {
    "scrolled": true
   },
   "outputs": [
    {
     "name": "stdout",
     "output_type": "stream",
     "text": [
      "<class 'pandas.core.frame.DataFrame'>\n",
      "RangeIndex: 891 entries, 0 to 890\n",
      "Data columns (total 12 columns):\n",
      " #   Column       Non-Null Count  Dtype  \n",
      "---  ------       --------------  -----  \n",
      " 0   PassengerId  891 non-null    int64  \n",
      " 1   Survived     891 non-null    int64  \n",
      " 2   Pclass       891 non-null    int64  \n",
      " 3   Name         891 non-null    object \n",
      " 4   Sex          891 non-null    object \n",
      " 5   Age          714 non-null    float64\n",
      " 6   SibSp        891 non-null    int64  \n",
      " 7   Parch        891 non-null    int64  \n",
      " 8   Ticket       891 non-null    object \n",
      " 9   Fare         891 non-null    float64\n",
      " 10  Cabin        204 non-null    object \n",
      " 11  Embarked     889 non-null    object \n",
      "dtypes: float64(2), int64(5), object(5)\n",
      "memory usage: 83.7+ KB\n"
     ]
    }
   ],
   "source": [
    "## Get insights on training data\n",
    "train.info()"
   ]
  },
  {
   "cell_type": "code",
   "execution_count": 7,
   "id": "89450f8c",
   "metadata": {},
   "outputs": [
    {
     "name": "stdout",
     "output_type": "stream",
     "text": [
      "<class 'pandas.core.frame.DataFrame'>\n",
      "RangeIndex: 418 entries, 0 to 417\n",
      "Data columns (total 11 columns):\n",
      " #   Column       Non-Null Count  Dtype  \n",
      "---  ------       --------------  -----  \n",
      " 0   PassengerId  418 non-null    int64  \n",
      " 1   Pclass       418 non-null    int64  \n",
      " 2   Name         418 non-null    object \n",
      " 3   Sex          418 non-null    object \n",
      " 4   Age          332 non-null    float64\n",
      " 5   SibSp        418 non-null    int64  \n",
      " 6   Parch        418 non-null    int64  \n",
      " 7   Ticket       418 non-null    object \n",
      " 8   Fare         417 non-null    float64\n",
      " 9   Cabin        91 non-null     object \n",
      " 10  Embarked     418 non-null    object \n",
      "dtypes: float64(2), int64(4), object(5)\n",
      "memory usage: 36.0+ KB\n"
     ]
    }
   ],
   "source": [
    "## Get insights on test data\n",
    "test.info()"
   ]
  },
  {
   "cell_type": "code",
   "execution_count": 8,
   "id": "c3d69faa",
   "metadata": {
    "scrolled": true
   },
   "outputs": [
    {
     "data": {
      "text/plain": [
       "PassengerId      0\n",
       "Survived         0\n",
       "Pclass           0\n",
       "Name             0\n",
       "Sex              0\n",
       "Age            177\n",
       "SibSp            0\n",
       "Parch            0\n",
       "Ticket           0\n",
       "Fare             0\n",
       "Cabin          687\n",
       "Embarked         2\n",
       "dtype: int64"
      ]
     },
     "execution_count": 8,
     "metadata": {},
     "output_type": "execute_result"
    }
   ],
   "source": [
    "## Check for Null values in training data \n",
    "train.isnull().sum()"
   ]
  },
  {
   "cell_type": "code",
   "execution_count": 9,
   "id": "373b48ae",
   "metadata": {
    "scrolled": false
   },
   "outputs": [
    {
     "data": {
      "text/plain": [
       "PassengerId      0\n",
       "Pclass           0\n",
       "Name             0\n",
       "Sex              0\n",
       "Age             86\n",
       "SibSp            0\n",
       "Parch            0\n",
       "Ticket           0\n",
       "Fare             1\n",
       "Cabin          327\n",
       "Embarked         0\n",
       "dtype: int64"
      ]
     },
     "execution_count": 9,
     "metadata": {},
     "output_type": "execute_result"
    }
   ],
   "source": [
    "## Check for Null values in testing data \n",
    "test.isnull().sum()"
   ]
  },
  {
   "cell_type": "markdown",
   "id": "4e5487ba",
   "metadata": {},
   "source": [
    "#### Plotting some Visualizations about the features on our training dataset -"
   ]
  },
  {
   "cell_type": "code",
   "execution_count": 10,
   "id": "0cd6e897",
   "metadata": {},
   "outputs": [],
   "source": [
    "## Function to plot bar charts\n",
    "def bar_chart(feature):\n",
    "    survived = train[train['Survived']==1][feature].value_counts()\n",
    "    dead = train[train['Survived']==0][feature].value_counts()\n",
    "    df = pd.DataFrame([survived,dead])\n",
    "    df.index = ['Survived','Dead']\n",
    "    df.plot(kind='bar',stacked=True, figsize=(10,5))"
   ]
  },
  {
   "cell_type": "code",
   "execution_count": 11,
   "id": "c77cf58f",
   "metadata": {},
   "outputs": [
    {
     "data": {
      "image/png": "[encoded data removed]",
      "text/plain": [
       "<Figure size 720x360 with 1 Axes>"
      ]
     },
     "metadata": {
      "needs_background": "light"
     },
     "output_type": "display_data"
    },
    {
     "data": {
      "image/png": "[encoded data removed]",
      "text/plain": [
       "<Figure size 720x360 with 1 Axes>"
      ]
     },
     "metadata": {
      "needs_background": "light"
     },
     "output_type": "display_data"
    },
    {
     "data": {
      "image/png": "[encoded data removed]",
      "text/plain": [
       "<Figure size 720x360 with 1 Axes>"
      ]
     },
     "metadata": {
      "needs_background": "light"
     },
     "output_type": "display_data"
    }
   ],
   "source": [
    "bar_chart('Sex')\n",
    "bar_chart('Pclass')\n",
    "bar_chart('Embarked')"
   ]
  },
  {
   "cell_type": "markdown",
   "id": "10b9632d",
   "metadata": {},
   "source": [
    "#### Feature engineering"
   ]
  },
  {
   "cell_type": "code",
   "execution_count": 12,
   "id": "3db6f593",
   "metadata": {},
   "outputs": [
    {
     "data": {
      "text/plain": [
       "array(['Mr', 'Mrs', 'Miss', 'Master', 'Don', 'Rev', 'Dr', 'Mme', 'Ms',\n",
       "       'Major', 'Lady', 'Sir', 'Mlle', 'Col', 'Capt', 'Countess',\n",
       "       'Jonkheer'], dtype=object)"
      ]
     },
     "execution_count": 12,
     "metadata": {},
     "output_type": "execute_result"
    }
   ],
   "source": [
    "# Commbining train and test data for feature engg.\n",
    "all_data = [train,test]\n",
    "\n",
    "# Check Title of each individual on basis of their name\n",
    "for data in all_data :\n",
    "    data['Status'] = data['Name'].str.extract(' ([A-Za-z]+)\\.', expand=False)\n",
    "    \n",
    "train.Status.unique()"
   ]
  },
  {
   "cell_type": "code",
   "execution_count": 13,
   "id": "f01ade26",
   "metadata": {},
   "outputs": [],
   "source": [
    "# Adding Status of each individual on basis of their name\n",
    "for dataset in all_data:\n",
    "    ## Assign Rare title to all the vip personnel on the ship\n",
    "    dataset['Status'] = dataset['Status'].replace(['Lady', 'Countess','Capt', 'Col',\\\n",
    "     'Don', 'Dr', 'Major', 'Rev', 'Sir', 'Jonkheer', 'Dona'], 'Rare')\n",
    "\n",
    "    ## Correct spelling mistakes in title for remaining individuals\n",
    "    dataset['Status'] = dataset['Status'].replace('Mlle', 'Miss')\n",
    "    dataset['Status'] = dataset['Status'].replace('Ms', 'Miss')\n",
    "    dataset['Status'] = dataset['Status'].replace('Mme', 'Mrs')"
   ]
  },
  {
   "cell_type": "code",
   "execution_count": 14,
   "id": "b2f064fa",
   "metadata": {},
   "outputs": [],
   "source": [
    "# Mapping Status of each individual on basis of their name\n",
    "status_mapping = {\"Mr\": 1, \"Miss\": 2, \"Mrs\": 3, \"Master\": 4, \"Rare\": 5}\n",
    "for dataset in all_data:\n",
    "    dataset['Status'] = dataset['Status'].map(status_mapping)\n",
    "    dataset['Status'] = dataset['Status'].fillna(0)"
   ]
  },
  {
   "cell_type": "code",
   "execution_count": 15,
   "id": "43b09ccd",
   "metadata": {},
   "outputs": [],
   "source": [
    "# Mapping FamilySize column by summing Siblings + ParentChild + Individual \n",
    "train['FamilySize'] = train ['SibSp'] + train['Parch'] + 1\n",
    "test['FamilySize'] = test ['SibSp'] + test['Parch'] + 1"
   ]
  },
  {
   "cell_type": "code",
   "execution_count": 16,
   "id": "f7f6f477",
   "metadata": {},
   "outputs": [],
   "source": [
    "## Adding isAlone column if individual was travelling without family    \n",
    "for dataset in all_data:\n",
    "    dataset['IsAlone'] = 0\n",
    "    dataset.loc[dataset['FamilySize'] == 1, 'IsAlone'] = 1"
   ]
  },
  {
   "cell_type": "code",
   "execution_count": 17,
   "id": "44cfdd7c",
   "metadata": {},
   "outputs": [],
   "source": [
    "## Adding Cabin Category\n",
    "train['Cabin_category'] = train['Cabin'].astype(str).str[0]\n",
    "train['Cabin_category'] = train['Cabin_category'].map({'A':1,'B':2,'C':2,'D':3,'E':4,'F':5,'G':6,'T':7})\n",
    "train['Cabin_category'] = train['Cabin_category'].fillna(0)\n",
    "# Cabin Grouping \n",
    "train['HasCabin'] = train['Cabin'].apply(lambda x:0 if x is np.nan else 1)\n",
    "\n",
    "\n",
    "test['Cabin_category'] = test['Cabin'].astype(str).str[0]\n",
    "test['Cabin_category'] = test['Cabin_category'].map({'A':1,'B':2,'C':2,'D':3,'E':4,'F':5,'G':6,'T':7})\n",
    "test['Cabin_category'] = test['Cabin_category'].fillna(0)\n",
    "# Cabin Grouping \n",
    "test['HasCabin'] = test['Cabin'].apply(lambda x:0 if x is np.nan else 1)"
   ]
  },
  {
   "cell_type": "markdown",
   "id": "4cbbb587",
   "metadata": {},
   "source": [
    "#### Filling in missing data on Age, Fare and Embarked features -"
   ]
  },
  {
   "cell_type": "code",
   "execution_count": 18,
   "id": "7e1ec30f",
   "metadata": {},
   "outputs": [],
   "source": [
    "## Filling up missing Age values by taking a median\n",
    "train[\"Age\"].fillna(train.groupby(\"Status\")[\"Age\"].transform(\"median\"), inplace=True)\n",
    "test[\"Age\"].fillna(test.groupby(\"Status\")[\"Age\"].transform(\"median\"), inplace=True)\n",
    "\n",
    "\n",
    "## Filling up missing Fare values by taking a median on Pclass of an individual\n",
    "train['Fare'].fillna(train.groupby(['Pclass', 'Parch', 'SibSp'])['Fare'].median()[3][0][0], inplace = True)\n",
    "test['Fare'].fillna(test.groupby(['Pclass', 'Parch', 'SibSp'])['Fare'].median()[3][0][0], inplace = True)\n",
    "\n",
    "## Filling up missing Embarked values by replacing them with 'S' based on assumption that most people boarded from Southampton\n",
    "train['Embarked'].fillna('S', inplace = True)\n",
    "test['Embarked'].fillna('S', inplace = True)"
   ]
  },
  {
   "cell_type": "code",
   "execution_count": 19,
   "id": "7d4feb53",
   "metadata": {},
   "outputs": [
    {
     "data": {
      "text/plain": [
       "PassengerId         0\n",
       "Survived            0\n",
       "Pclass              0\n",
       "Name                0\n",
       "Sex                 0\n",
       "Age                 0\n",
       "SibSp               0\n",
       "Parch               0\n",
       "Ticket              0\n",
       "Fare                0\n",
       "Cabin             687\n",
       "Embarked            0\n",
       "Status              0\n",
       "FamilySize          0\n",
       "IsAlone             0\n",
       "Cabin_category      0\n",
       "HasCabin            0\n",
       "dtype: int64"
      ]
     },
     "execution_count": 19,
     "metadata": {},
     "output_type": "execute_result"
    }
   ],
   "source": [
    "## Check for Null values in training data \n",
    "train.isnull().sum()"
   ]
  },
  {
   "cell_type": "code",
   "execution_count": 20,
   "id": "e6a57e40",
   "metadata": {
    "scrolled": true
   },
   "outputs": [
    {
     "data": {
      "text/plain": [
       "PassengerId         0\n",
       "Pclass              0\n",
       "Name                0\n",
       "Sex                 0\n",
       "Age                 0\n",
       "SibSp               0\n",
       "Parch               0\n",
       "Ticket              0\n",
       "Fare                0\n",
       "Cabin             327\n",
       "Embarked            0\n",
       "Status              0\n",
       "FamilySize          0\n",
       "IsAlone             0\n",
       "Cabin_category      0\n",
       "HasCabin            0\n",
       "dtype: int64"
      ]
     },
     "execution_count": 20,
     "metadata": {},
     "output_type": "execute_result"
    }
   ],
   "source": [
    "## Check for Null values in testing data \n",
    "test.isnull().sum()"
   ]
  },
  {
   "cell_type": "markdown",
   "id": "188c61a0",
   "metadata": {},
   "source": [
    "#### Encoding Categorical  Data"
   ]
  },
  {
   "cell_type": "code",
   "execution_count": 22,
   "id": "8454174a",
   "metadata": {},
   "outputs": [],
   "source": [
    "from sklearn.preprocessing import LabelEncoder\n",
    "le = LabelEncoder()"
   ]
  },
  {
   "cell_type": "code",
   "execution_count": 23,
   "id": "0ad4c936",
   "metadata": {},
   "outputs": [],
   "source": [
    "train[\"Sex\"]= le.fit_transform(train[\"Sex\"])\n",
    "test[\"Sex\"]= le.fit_transform(test[\"Sex\"])\n",
    "\n",
    "train[\"Embarked\"]= le.fit_transform(train[\"Embarked\"])\n",
    "test[\"Embarked\"]= le.fit_transform(test[\"Embarked\"])"
   ]
  },
  {
   "cell_type": "code",
   "execution_count": 24,
   "id": "2cfd815a",
   "metadata": {},
   "outputs": [
    {
     "name": "stdout",
     "output_type": "stream",
     "text": [
      "<class 'pandas.core.frame.DataFrame'>\n",
      "RangeIndex: 891 entries, 0 to 890\n",
      "Data columns (total 17 columns):\n",
      " #   Column          Non-Null Count  Dtype  \n",
      "---  ------          --------------  -----  \n",
      " 0   PassengerId     891 non-null    int64  \n",
      " 1   Survived        891 non-null    int64  \n",
      " 2   Pclass          891 non-null    int64  \n",
      " 3   Name            891 non-null    object \n",
      " 4   Sex             891 non-null    int32  \n",
      " 5   Age             891 non-null    float64\n",
      " 6   SibSp           891 non-null    int64  \n",
      " 7   Parch           891 non-null    int64  \n",
      " 8   Ticket          891 non-null    object \n",
      " 9   Fare            891 non-null    float64\n",
      " 10  Cabin           204 non-null    object \n",
      " 11  Embarked        891 non-null    int32  \n",
      " 12  Status          891 non-null    int64  \n",
      " 13  FamilySize      891 non-null    int64  \n",
      " 14  IsAlone         891 non-null    int64  \n",
      " 15  Cabin_category  891 non-null    float64\n",
      " 16  HasCabin        891 non-null    int64  \n",
      "dtypes: float64(3), int32(2), int64(9), object(3)\n",
      "memory usage: 111.5+ KB\n"
     ]
    }
   ],
   "source": [
    "## Final insights on training Dataset\n",
    "train.info()"
   ]
  },
  {
   "cell_type": "markdown",
   "id": "a629db89",
   "metadata": {},
   "source": [
    "#### Training our model and making predictions"
   ]
  },
  {
   "cell_type": "code",
   "execution_count": 25,
   "id": "19374f04",
   "metadata": {},
   "outputs": [],
   "source": [
    "# Models from SCikit -Learn\n",
    "from sklearn.linear_model import LogisticRegression\n",
    "from sklearn.neighbors import KNeighborsClassifier\n",
    "from sklearn.ensemble import RandomForestClassifier\n",
    "from sklearn.naive_bayes import GaussianNB\n",
    "from sklearn.linear_model import SGDClassifier\n",
    "from sklearn.tree import DecisionTreeClassifier\n",
    "from sklearn.svm import SVC\n",
    "\n",
    "# Model Evaluations\n",
    "from sklearn.model_selection import train_test_split, cross_val_score\n",
    "from sklearn.model_selection import RandomizedSearchCV, GridSearchCV\n",
    "from sklearn.metrics import confusion_matrix, classification_report , accuracy_score\n",
    "from sklearn.metrics import precision_score, recall_score, f1_score\n",
    "import warnings\n",
    "warnings.filterwarnings(\"ignore\")"
   ]
  },
  {
   "cell_type": "code",
   "execution_count": 27,
   "id": "59820073",
   "metadata": {},
   "outputs": [],
   "source": [
    "y_full = train[\"Survived\"]\n",
    "\n",
    "features = [\"Pclass\",\"Sex\", \"Age\",\"Fare\",\"Embarked\",\"IsAlone\", \"FamilySize\", \"Status\",\"Cabin_category\",\"HasCabin\"]\n",
    "\n",
    "X_full = train[features]\n",
    "X_test_full = test[features]"
   ]
  },
  {
   "cell_type": "code",
   "execution_count": 28,
   "id": "1cfd1b11",
   "metadata": {},
   "outputs": [],
   "source": [
    "## Splitting our dataset \n",
    "X_train, X_test, y_train, y_test = train_test_split(X_full, y_full, train_size=0.7, test_size=0.3,random_state=0)"
   ]
  },
  {
   "cell_type": "code",
   "execution_count": 29,
   "id": "170d9022",
   "metadata": {},
   "outputs": [],
   "source": [
    "# Create directory for different models\n",
    "\n",
    "models = { \"Logistic Regression\": LogisticRegression(),\n",
    "            \"Naive Bayes\": GaussianNB(),\n",
    "            \"Stochastic Gradient\": SGDClassifier(),\n",
    "            \"KNeighbors Classifier\": KNeighborsClassifier(),\n",
    "            \"DecisionTree Classifier\": DecisionTreeClassifier(),\n",
    "            \"RandomForest Classifier\": RandomForestClassifier(),\n",
    "            \"Support Vector Machine\": SVC()}\n",
    "\n",
    "\n",
    "\n",
    "# Create a function to fit and score models\n",
    "def fit_and_score(models, X_train,X_test,y_train,y_test):\n",
    "    \"\"\"\n",
    "    Fits and evaluates given machine learning models.\n",
    "    models: a dict of different SCikit-Learn machine learning models\n",
    "    X_train : training data(no labels)\n",
    "    X_test: testing data (no labels)\n",
    "    y_train: training labels\n",
    "    y_test: test labels\n",
    "    \"\"\"\n",
    "    # set random seeed\n",
    "    np.random.seed(0)\n",
    "    # Make a dictionary to keep model scores\n",
    "    model_scores = {}\n",
    "    # Loop through models\n",
    "    for name, model in models.items():\n",
    "        # Fit the model to the data\n",
    "        model.fit(X_train,y_train)\n",
    "        # Evaluate the model and append its score to model scores\n",
    "        model_scores[name] = model.score(X_test,y_test)\n",
    "    return model_scores"
   ]
  },
  {
   "cell_type": "code",
   "execution_count": 30,
   "id": "428cf243",
   "metadata": {},
   "outputs": [
    {
     "data": {
      "text/plain": [
       "{'Logistic Regression': 0.8171641791044776,\n",
       " 'Naive Bayes': 0.7761194029850746,\n",
       " 'Stochastic Gradient': 0.7798507462686567,\n",
       " 'KNeighbors Classifier': 0.7611940298507462,\n",
       " 'DecisionTree Classifier': 0.7947761194029851,\n",
       " 'RandomForest Classifier': 0.8246268656716418,\n",
       " 'Support Vector Machine': 0.7164179104477612}"
      ]
     },
     "execution_count": 30,
     "metadata": {},
     "output_type": "execute_result"
    }
   ],
   "source": [
    "## Train our data on different classifiers \n",
    "\n",
    "model_scores = fit_and_score(models=models,\n",
    "                             X_train= X_train,\n",
    "                             X_test= X_test,\n",
    "                            y_train=y_train,\n",
    "                            y_test=y_test)\n",
    "model_scores"
   ]
  },
  {
   "cell_type": "code",
   "execution_count": 31,
   "id": "3e8d7904",
   "metadata": {},
   "outputs": [
    {
     "data": {
      "image/png": "[encoded data removed]",
      "text/plain": [
       "<Figure size 432x288 with 1 Axes>"
      ]
     },
     "metadata": {
      "needs_background": "light"
     },
     "output_type": "display_data"
    }
   ],
   "source": [
    "model_compare = pd.DataFrame(model_scores, index=[\"accuracy\"])\n",
    "model_compare.T.plot.bar();"
   ]
  },
  {
   "cell_type": "markdown",
   "id": "aa803ae5",
   "metadata": {},
   "source": [
    "####  Hyerparameter Tuning for Random Forest model as we have best acc score for classifier"
   ]
  },
  {
   "cell_type": "code",
   "execution_count": 32,
   "id": "23d0bfc2",
   "metadata": {},
   "outputs": [],
   "source": [
    "# Create a hyperparameter grid for RandomForestClassifier\n",
    "rf_grid = {\"n_estimators\": np.arange(10, 1000, 50),\n",
    "           \"max_depth\": np.arange(1, 50, 2),\n",
    "           \"min_samples_split\": np.arange(2, 50, 2),\n",
    "           \"min_samples_leaf\": np.arange(1, 20, 2)}"
   ]
  },
  {
   "cell_type": "code",
   "execution_count": 33,
   "id": "60bb2bd2",
   "metadata": {},
   "outputs": [
    {
     "name": "stdout",
     "output_type": "stream",
     "text": [
      "Fitting 5 folds for each of 20 candidates, totalling 100 fits\n"
     ]
    },
    {
     "data": {
      "text/plain": [
       "RandomizedSearchCV(cv=5, estimator=RandomForestClassifier(), n_iter=20,\n",
       "                   n_jobs=-1,\n",
       "                   param_distributions={'max_depth': array([ 1,  3,  5,  7,  9, 11, 13, 15, 17, 19, 21, 23, 25, 27, 29, 31, 33,\n",
       "       35, 37, 39, 41, 43, 45, 47, 49]),\n",
       "                                        'min_samples_leaf': array([ 1,  3,  5,  7,  9, 11, 13, 15, 17, 19]),\n",
       "                                        'min_samples_split': array([ 2,  4,  6,  8, 10, 12, 14, 16, 18, 20, 22, 24, 26, 28, 30, 32, 34,\n",
       "       36, 38, 40, 42, 44, 46, 48]),\n",
       "                                        'n_estimators': array([ 10,  60, 110, 160, 210, 260, 310, 360, 410, 460, 510, 560, 610,\n",
       "       660, 710, 760, 810, 860, 910, 960])},\n",
       "                   verbose=True)"
      ]
     },
     "execution_count": 33,
     "metadata": {},
     "output_type": "execute_result"
    }
   ],
   "source": [
    "# Tune RandomForestClassifier\n",
    "# Setup random seed\n",
    "np.random.seed(3)\n",
    "\n",
    "# Setup random hyperparameter search for RandomForestClassifier\n",
    "rs_rf = RandomizedSearchCV(RandomForestClassifier(), \n",
    "                           param_distributions=rf_grid,\n",
    "                           cv=5,\n",
    "                           n_iter=20,\n",
    "                           verbose=True, n_jobs=-1)\n",
    "\n",
    "# Fit random hyperparameter search model for RandomForestClassifier()\n",
    "rs_rf.fit(X_train, y_train)"
   ]
  },
  {
   "cell_type": "code",
   "execution_count": 34,
   "id": "c4ebd751",
   "metadata": {},
   "outputs": [
    {
     "data": {
      "text/plain": [
       "{'n_estimators': 160,\n",
       " 'min_samples_split': 20,\n",
       " 'min_samples_leaf': 1,\n",
       " 'max_depth': 27}"
      ]
     },
     "execution_count": 34,
     "metadata": {},
     "output_type": "execute_result"
    }
   ],
   "source": [
    "# Find the best hyperparameters\n",
    "rs_rf.best_params_"
   ]
  },
  {
   "cell_type": "code",
   "execution_count": 35,
   "id": "8eab5010",
   "metadata": {
    "scrolled": true
   },
   "outputs": [
    {
     "data": {
      "text/plain": [
       "0.8246268656716418"
      ]
     },
     "execution_count": 35,
     "metadata": {},
     "output_type": "execute_result"
    }
   ],
   "source": [
    "# Evaluate the randomized search RandomForestClassifier model\n",
    "rs_rf.score(X_test, y_test)"
   ]
  },
  {
   "cell_type": "markdown",
   "id": "2cae20d0",
   "metadata": {},
   "source": [
    "#### Further Hyperparamter Tuning on RF with GridSearchCV"
   ]
  },
  {
   "cell_type": "code",
   "execution_count": 36,
   "id": "90be3ffe",
   "metadata": {},
   "outputs": [
    {
     "name": "stdout",
     "output_type": "stream",
     "text": [
      "Fitting 5 folds for each of 400 candidates, totalling 2000 fits\n"
     ]
    }
   ],
   "source": [
    "# Different hyperparameters for our RandomForestClassifier model\n",
    "rf_grid = {\"n_estimators\": np.arange(100, 300, 50),\n",
    "           \"max_depth\": np.arange(10,20, 2),\n",
    "           \"min_samples_split\": np.arange(20,30, 2),\n",
    "           \"min_samples_leaf\": np.arange(2, 10, 2),\n",
    "          \"random_state\": [0] }\n",
    "\n",
    "# Setup grid hyperparameter search for RandomForestClassifier\n",
    "gs_rf = GridSearchCV(RandomForestClassifier(),\n",
    "                          param_grid=rf_grid,\n",
    "                          cv=5,\n",
    "                          verbose=True,n_jobs=-1)\n",
    "\n",
    "# Fit grid hyperparameter search model\n",
    "gs_rf.fit(X_train, y_train);"
   ]
  },
  {
   "cell_type": "code",
   "execution_count": 37,
   "id": "6e902a16",
   "metadata": {},
   "outputs": [
    {
     "data": {
      "text/plain": [
       "{'max_depth': 16,\n",
       " 'min_samples_leaf': 2,\n",
       " 'min_samples_split': 20,\n",
       " 'n_estimators': 250,\n",
       " 'random_state': 0}"
      ]
     },
     "execution_count": 37,
     "metadata": {},
     "output_type": "execute_result"
    }
   ],
   "source": [
    "# Check the best hyperparmaters\n",
    "gs_rf.best_params_"
   ]
  },
  {
   "cell_type": "code",
   "execution_count": 38,
   "id": "b0a4a131",
   "metadata": {
    "scrolled": true
   },
   "outputs": [
    {
     "data": {
      "text/plain": [
       "0.8208955223880597"
      ]
     },
     "execution_count": 38,
     "metadata": {},
     "output_type": "execute_result"
    }
   ],
   "source": [
    "# Evaluate the GridSearchCV search RandomForestClassifier model\n",
    "gs_rf.score(X_test, y_test)"
   ]
  },
  {
   "cell_type": "markdown",
   "id": "59fb47b7",
   "metadata": {},
   "source": [
    "#### Final RF model with Accuracy"
   ]
  },
  {
   "cell_type": "code",
   "execution_count": 42,
   "id": "586714a0",
   "metadata": {},
   "outputs": [
    {
     "data": {
      "text/plain": [
       "0.8283582089552238"
      ]
     },
     "execution_count": 42,
     "metadata": {},
     "output_type": "execute_result"
    }
   ],
   "source": [
    "clf = RandomForestClassifier(n_estimators = 250, max_depth = 16, min_samples_split = 20, min_samples_leaf = 2)\n",
    "\n",
    "clf.fit(X_train, y_train)\n",
    "\n",
    "clf_val_predictions = clf.predict(X_test)\n",
    "\n",
    "clf_accuracy = accuracy_score(clf_val_predictions,y_test)\n",
    "\n",
    "clf_accuracy"
   ]
  },
  {
   "cell_type": "markdown",
   "id": "067c9faa",
   "metadata": {},
   "source": [
    "#### Predicting and Exporting our final submission"
   ]
  },
  {
   "cell_type": "code",
   "execution_count": 43,
   "id": "cfc78016",
   "metadata": {},
   "outputs": [],
   "source": [
    "clf.fit(X_full, y_full)\n",
    "predictions = clf.predict(X_test_full)"
   ]
  },
  {
   "cell_type": "code",
   "execution_count": 44,
   "id": "820c0c30",
   "metadata": {},
   "outputs": [],
   "source": [
    "output = pd.DataFrame({'PassengerId': test.PassengerId, 'Survived': predictions})\n",
    "output.to_csv('../data/Tuned_RF_Model.csv', index=False)"
   ]
  },
  {
   "cell_type": "markdown",
   "id": "622c81b6",
   "metadata": {},
   "source": [
    "+++ Results +++\n",
    "\n",
    "Kaggle Public Score Accuracy\n",
    "\n",
    "- Tuned_RF_Model.csv ---------- 0.77272"
   ]
  },
  {
   "cell_type": "code",
   "execution_count": null,
   "id": "0254b1d5",
   "metadata": {},
   "outputs": [],
   "source": []
  }
 ],
 "metadata": {
  "kernelspec": {
   "display_name": "Python 3",
   "language": "python",
   "name": "python3"
  },
  "language_info": {
   "codemirror_mode": {
    "name": "ipython",
    "version": 3
   },
   "file_extension": ".py",
   "mimetype": "text/x-python",
   "name": "python",
   "nbconvert_exporter": "python",
   "pygments_lexer": "ipython3",
   "version": "3.7.10"
  }
 },
 "nbformat": 4,
 "nbformat_minor": 5
}
